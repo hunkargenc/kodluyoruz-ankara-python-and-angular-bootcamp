{
 "cells": [
  {
   "cell_type": "markdown",
   "metadata": {},
   "source": [
    "# Bölüm A"
   ]
  },
  {
   "cell_type": "markdown",
   "metadata": {},
   "source": [
    "İki oyunculu bir Taş-Kağıt-Makas oyunu yapalım.\n",
    "\n",
    "**İpucu:** \n",
    "\n",
    "Oyuncudan oyunlarını isteyip (`input()` kullanarak), karşılaştıralım, kazananı tebrik eden bir mesaj yazdıralım ve oyuncuların yeni bir oyuna başlamak isteyip istemediğini soralım)"
   ]
  },
  {
   "cell_type": "markdown",
   "metadata": {},
   "source": [
    "# Çözüm"
   ]
  },
  {
   "cell_type": "code",
   "execution_count": 11,
   "metadata": {},
   "outputs": [
    {
     "output_type": "stream",
     "name": "stdout",
     "text": [
      "Lütfen birini seçiniz : \n",
      "Taş\n",
      "Makas\n",
      "Kağıt\n",
      "2. Oyuncu Kazandı! Tebrikler\n",
      "Oyun Bitti!\n"
     ]
    }
   ],
   "source": [
    "# Hünkar Genç\n",
    "print('''Lütfen birini seçiniz : \n",
    "Taş\n",
    "Makas\n",
    "Kağıt''')\n",
    "\n",
    "while True:\n",
    "    secenekler = {'Taş': 1, 'Makas': 2, 'Kağıt': 3}\n",
    "    oyuncu1 = str(input(\"1. oyuncu! Sizin sıranız: \"))\n",
    "    oyuncu2 = str(input(\"2. oyuncu! Sizin sıranız: \"))\n",
    "    a = secenekler.get(oyuncu1)\n",
    "    b = secenekler.get(oyuncu2)\n",
    "    durum = a - b\n",
    "\n",
    "    if durum in [-1, 2]:\n",
    "        print('1. Oyuncu Kazandı! Tebrikler')\n",
    "        if str(input('Bir oyun daha?, Evet ya da Hayır?\\n')) == 'Evet':\n",
    "            continue\n",
    "        else:\n",
    "            print('Oyun Bitti!')\n",
    "            break\n",
    "    elif durum in [-2, 1]:\n",
    "        print('2. Oyuncu Kazandı! Tebrikler')\n",
    "        if str(input('Bir oyun daha?, Evet ya da Hayır?\\n')) == 'Evet':\n",
    "            continue\n",
    "        else:\n",
    "            print('Oyun Bitti!')\n",
    "            break\n",
    "    else:\n",
    "        print('Lütfen devam ediniz.\\n')\n",
    "        "
   ]
  },
  {
   "cell_type": "markdown",
   "metadata": {},
   "source": [
    "# Bölüm B"
   ]
  },
  {
   "cell_type": "markdown",
   "metadata": {},
   "source": [
    "Diyelim ki bize bir değişkene kaydedilmiş bir liste vermiş olsunlar: `a = [1, 4, 9, 16, 25, 36, 49, 64, 81, 100]`. Bu listeyi alan ve içinde bu listenin yalnızca çift öğelerini içeren yeni bir liste oluşturan bir Python satırı yazın (ne kadar az satırda olursa o kadar iyidir :) )."
   ]
  },
  {
   "cell_type": "markdown",
   "metadata": {},
   "source": [
    "# Çözüm"
   ]
  },
  {
   "cell_type": "code",
   "execution_count": 9,
   "metadata": {},
   "outputs": [
    {
     "output_type": "stream",
     "name": "stdout",
     "text": [
      "[4, 16, 36, 64, 100]\n"
     ]
    }
   ],
   "source": [
    "# Hünkar Genç\n",
    "a = [1, 4, 9, 16, 25, 36, 49, 64, 81, 100]\n",
    "\n",
    "a_cift = [i for i in a if i % 2 == 0] \n",
    "  \n",
    "print(a_cift) "
   ]
  },
  {
   "cell_type": "code",
   "execution_count": null,
   "metadata": {},
   "outputs": [],
   "source": []
  }
 ],
 "metadata": {
  "kernelspec": {
   "display_name": "Python 3",
   "language": "python",
   "name": "python3"
  },
  "language_info": {
   "codemirror_mode": {
    "name": "ipython",
    "version": 3
   },
   "file_extension": ".py",
   "mimetype": "text/x-python",
   "name": "python",
   "nbconvert_exporter": "python",
   "pygments_lexer": "ipython3",
   "version": "3.8.3-final"
  }
 },
 "nbformat": 4,
 "nbformat_minor": 4
}