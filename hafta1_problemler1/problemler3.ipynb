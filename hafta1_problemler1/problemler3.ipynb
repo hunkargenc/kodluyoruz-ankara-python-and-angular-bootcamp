{
 "cells": [
  {
   "cell_type": "markdown",
   "metadata": {},
   "source": [
    "# Bölüm A"
   ]
  },
  {
   "cell_type": "markdown",
   "metadata": {},
   "source": [
    "Bu alıştırma için arkadaşlarımızın doğum günlerinin ne zaman olduğunu takip edeceğiz ve bu bilgileri isimlerine göre bulabileceğiz. İsim ve doğum günlerinden oluşan bir sözlük (dosyası) oluşturalım. Programımızı çalıştırdığınızda, kullanıcıdan bir isim girmesini ve o kişinin doğum gününü kendisine bildirmesini istemelidir. Etkileşim şunun gibi görünmelidir:\n",
    "\n",
    "```python\n",
    ">>> Doğum günü sözlüğüne hoş geldiniz. Bu kişilerin doğum günlerini biliyoruz:\n",
    "Kemal Sunal\n",
    "Adile Naşit\n",
    "Münir Özkul\n",
    "Türkan Şoray\n",
    ">>> Hangisinin doğum gününü öğrenmek istersin?\n",
    "Türkan Şoray\n",
    ">>> Türkan Şoray'ın doğum günü 28/07/1945.\n",
    "```"
   ]
  },
  {
   "cell_type": "markdown",
   "metadata": {},
   "source": [
    "# Çözüm"
   ]
  },
  {
   "cell_type": "code",
   "execution_count": 1,
   "metadata": {},
   "outputs": [
    {
     "output_type": "error",
     "ename": "NameError",
     "evalue": "name 'name_surname' is not defined",
     "traceback": [
      "\u001b[1;31m---------------------------------------------------------------------------\u001b[0m",
      "\u001b[1;31mNameError\u001b[0m                                 Traceback (most recent call last)",
      "\u001b[1;32m<ipython-input-1-c1d41a84b04c>\u001b[0m in \u001b[0;36m<module>\u001b[1;34m\u001b[0m\n\u001b[0;32m      5\u001b[0m \u001b[1;33m\u001b[0m\u001b[0m\n\u001b[0;32m      6\u001b[0m birthdic = {\n\u001b[1;32m----> 7\u001b[1;33m   \u001b[0mname_surname\u001b[0m\u001b[1;33m:\u001b[0m \u001b[0mdate\u001b[0m\u001b[1;33m,\u001b[0m\u001b[1;33m\u001b[0m\u001b[1;33m\u001b[0m\u001b[0m\n\u001b[0m\u001b[0;32m      8\u001b[0m }\n\u001b[0;32m      9\u001b[0m \u001b[1;33m\u001b[0m\u001b[0m\n",
      "\u001b[1;31mNameError\u001b[0m: name 'name_surname' is not defined"
     ]
    }
   ],
   "source": [
    "# Hünkar Genç\n",
    "\n",
    "name_surname = \"Kodluyoruz\"\n",
    "date = \"01/01/2000\"\n",
    "\n",
    "birthdic = {\n",
    "  name_surname: date,\n",
    "}\n",
    "\n",
    "birthdic[\"Hünkar Genç\"] = \"08/02/1993\"\n",
    "birthdic[\"Ümit Yıldız\"] = \"14/09/1992\"\n",
    "birthdic[\"Semra Genç\"] = \"14/01/1966\"\n",
    "birthdic[\"Gazanfer Genç\"] = \"19/12/1962\"\n",
    "\n",
    "if birthdic.values != 0: \n",
    "    print('Doğum günü sözlüğüne hoş geldiniz. Bu kişilerin doğum günlerini biliyoruz: ')  \n",
    "    print(birthdic)\n",
    "else:\n",
    "    print(\"Hiç kayıt bulunmamaktadır.\")\n",
    "\n",
    "while True:\n",
    "    name_surname = str(input(\"Hangisinin doğum gününü öğrenmek istersin? Çıkmak için sıfır'ı tuşlayın.\"))\n",
    "    if name_surname in birthdic:\n",
    "        date = birthdic.get(name_surname)\n",
    "        print(f\"{name_surname}'ın doğum günü {date}.\")\n",
    "    elif name_surname == 0:\n",
    "        break\n",
    "    else:\n",
    "        break\n",
    "    # else:\n",
    "    #     print('Böyle bir kayıt bulunmamaktadır.')"
   ]
  },
  {
   "cell_type": "markdown",
   "metadata": {},
   "source": [
    "# Bölüm B"
   ]
  },
  {
   "cell_type": "markdown",
   "metadata": {},
   "source": [
    "Bir Pisagor üçlüsü, üç doğal sayı kümesidir, $a <b <c$, için,\n",
    "\n",
    "$$a^{2}+b^{2}=c^{2}$$\n",
    "\n",
    "Örneğin, $3^{2}+4^{2} = 9+16 = 5^{2}$\n",
    "\n",
    "Toplamı $a + b + c = 1000$ olan tam olarak bir Pisagor üçlüsü vardır.\n",
    "\n",
    "$abc$ çarpımını bulalım."
   ]
  },
  {
   "cell_type": "markdown",
   "metadata": {},
   "source": [
    "# Çözüm"
   ]
  },
  {
   "cell_type": "code",
   "execution_count": 5,
   "metadata": {},
   "outputs": [
    {
     "output_type": "stream",
     "name": "stdout",
     "text": [
      "200 375 425 40000 140625 180625\n"
     ]
    }
   ],
   "source": [
    "#Hünkar Genç\n",
    "import numpy\n",
    "\n",
    "def check_pathagorean(a, b, c):\n",
    "    return a**2 + b**2 == c**2\n",
    "\n",
    "for a in range(1, 332):\n",
    "    for b in range(a+1, int(numpy.ceil((1000-a)/2.-1))):\n",
    "        c = 1000 - a - b\n",
    "        if (check_pathagorean(a, b, c)):\n",
    "            print(a, b, c, a**2, b**2, c**2)\n",
    "            break\n"
   ]
  },
  {
   "cell_type": "code",
   "execution_count": null,
   "metadata": {},
   "outputs": [],
   "source": []
  }
 ],
 "metadata": {
  "kernelspec": {
   "display_name": "Python 3",
   "language": "python",
   "name": "python3"
  },
  "language_info": {
   "codemirror_mode": {
    "name": "ipython",
    "version": 3
   },
   "file_extension": ".py",
   "mimetype": "text/x-python",
   "name": "python",
   "nbconvert_exporter": "python",
   "pygments_lexer": "ipython3",
   "version": "3.8.3-final"
  }
 },
 "nbformat": 4,
 "nbformat_minor": 4
}